{
 "cells": [
  {
   "cell_type": "markdown",
   "id": "a469e2d1-4347-4ad6-aa76-356f00847322",
   "metadata": {},
   "source": [
    "# RAG system about the magical worlds 'Harry Potter' and 'Middle Earth'"
   ]
  },
  {
   "cell_type": "markdown",
   "id": "1af0f31e-79b7-43ee-85c2-fa179446ad45",
   "metadata": {},
   "source": [
    "## Importing libraries"
   ]
  },
  {
   "cell_type": "code",
   "execution_count": 1,
   "id": "initial_id",
   "metadata": {
    "ExecuteTime": {
     "end_time": "2025-07-09T06:32:06.021219Z",
     "start_time": "2025-07-09T06:31:55.293873Z"
    }
   },
   "outputs": [],
   "source": [
    "import os\n",
    "from decouple import config\n",
    "from dotenv import load_dotenv\n",
    "\n",
    "from langchain import PromptTemplate\n",
    "from langchain_community.document_loaders import (\n",
    "    PyPDFLoader,\n",
    "    DirectoryLoader,\n",
    "    TextLoader,\n",
    ")\n",
    "from langchain.text_splitter import RecursiveCharacterTextSplitter\n",
    "from langchain_huggingface import HuggingFaceEmbeddings\n",
    "from langchain.vectorstores import Qdrant\n",
    "from langchain_qdrant import QdrantVectorStore\n",
    "from langchain.chains import RetrievalQA\n",
    "from langchain.llms import CTransformers\n",
    "from langchain_ollama import OllamaLLM, ChatOllama"
   ]
  },
  {
   "cell_type": "code",
   "execution_count": 2,
   "id": "178fbf9e-8116-4b09-856e-55ca2ef165fa",
   "metadata": {},
   "outputs": [
    {
     "data": {
      "text/plain": [
       "True"
      ]
     },
     "execution_count": 2,
     "metadata": {},
     "output_type": "execute_result"
    }
   ],
   "source": [
    "load_dotenv()"
   ]
  },
  {
   "cell_type": "markdown",
   "id": "7cb03939-d7de-4897-99ba-66b725bc30fb",
   "metadata": {},
   "source": [
    "## Preparing a vector database, in this project I use Qdrant"
   ]
  },
  {
   "cell_type": "code",
   "execution_count": 3,
   "id": "7d2e3fee-e65a-404c-b989-1a62ba38a1ac",
   "metadata": {},
   "outputs": [],
   "source": [
    "# from langchain.vectorstores import FAISS"
   ]
  },
  {
   "cell_type": "code",
   "execution_count": 4,
   "id": "efc24520-b6e6-496c-8058-cf4885a56184",
   "metadata": {},
   "outputs": [],
   "source": [
    "from qdrant_client import QdrantClient\n",
    "from qdrant_client.models import VectorParams, Distance"
   ]
  },
  {
   "cell_type": "code",
   "execution_count": 5,
   "id": "51e169cf-fc9d-4005-9a47-a7bcbd19e48a",
   "metadata": {},
   "outputs": [],
   "source": [
    "QDRANT_URL = config(\"QDRANT_URL\")\n",
    "QDRANT_API_KEY = config(\"QDRANT_API_KEY\")"
   ]
  },
  {
   "cell_type": "code",
   "execution_count": 6,
   "id": "ed04425f-f161-495a-8d1e-e71fb0d083d8",
   "metadata": {},
   "outputs": [],
   "source": [
    "client = QdrantClient(url=QDRANT_URL, api_key=QDRANT_API_KEY, prefer_grpc=False)"
   ]
  },
  {
   "cell_type": "code",
   "execution_count": 7,
   "id": "8148787b-0be8-4363-9b86-f2b51a604aee",
   "metadata": {},
   "outputs": [],
   "source": [
    "collection_name = \"literature_collection\""
   ]
  },
  {
   "cell_type": "markdown",
   "id": "1f3dc263-cfe9-4bcc-bc2c-8b87e0b64ad5",
   "metadata": {},
   "source": [
    "### Creating a new collection in vectorstore if we don't have any"
   ]
  },
  {
   "cell_type": "code",
   "execution_count": 8,
   "id": "37d91ded-3d87-41aa-b05c-da0d03f0e5bd",
   "metadata": {},
   "outputs": [],
   "source": [
    "# client.create_collection(\n",
    "#     collection_name=\"literature_collection\",\n",
    "#     vectors_config=(VectorParams(size=768, distance=Distance.COSINE))\n",
    "# )"
   ]
  },
  {
   "cell_type": "code",
   "execution_count": null,
   "id": "64ca4f2b-7a2d-417e-bda9-4a1da37bc684",
   "metadata": {},
   "outputs": [],
   "source": [
    "# scroll_result, _ = client.scroll(\n",
    "#     collection_name=\"literature_collection\",\n",
    "#     limit=100_000,\n",
    "#     with_payload=True\n",
    "# )\n",
    "\n",
    "# sources = set()\n",
    "# for point in scroll_result:\n",
    "#     source = point.payload.get(\"metadata\").get('source')\n",
    "#     if source:\n",
    "#         sources.add(source)\n",
    "\n",
    "# for s in sorted(sources):\n",
    "#     print(s)"
   ]
  },
  {
   "cell_type": "code",
   "execution_count": null,
   "id": "ed1920e6-9d2b-4bac-984c-cd5e384b53a1",
   "metadata": {},
   "outputs": [],
   "source": [
    "# scroll_result[0].payload.get(\"metadata\").get('source')"
   ]
  },
  {
   "cell_type": "markdown",
   "id": "362b5474-c90b-4fa0-8ba8-3dcd4476b738",
   "metadata": {},
   "source": [
    "### PDF directory loader"
   ]
  },
  {
   "cell_type": "code",
   "execution_count": null,
   "id": "2a8fb68a-864b-4386-b773-8e0361ea2612",
   "metadata": {
    "ExecuteTime": {
     "end_time": "2025-07-09T06:32:06.031625Z",
     "start_time": "2025-07-09T06:32:06.027710Z"
    }
   },
   "outputs": [],
   "source": [
    "# loader = DirectoryLoader('data/', glob=\"**/*.pdf\", show_progress=True, loader_cls=PyPDFLoader)"
   ]
  },
  {
   "cell_type": "markdown",
   "id": "568ec6d5-9aea-47a2-8afd-54ff9e8c0fcf",
   "metadata": {},
   "source": [
    "### TXT directory loader"
   ]
  },
  {
   "cell_type": "code",
   "execution_count": null,
   "id": "6bc0cf16-893b-4d51-8ee9-a58c81bbdcf2",
   "metadata": {},
   "outputs": [],
   "source": [
    "# loader = DirectoryLoader('data/txt_data/', glob=\"**/*.txt\", show_progress=True, loader_cls=TextLoader, loader_kwargs={\"encoding\": \"utf-8\"})"
   ]
  },
  {
   "cell_type": "code",
   "execution_count": null,
   "id": "8e6c56b4-0802-4211-9788-b0f7f923b0eb",
   "metadata": {
    "ExecuteTime": {
     "end_time": "2025-07-09T06:37:09.901562Z",
     "start_time": "2025-07-09T06:37:09.503048Z"
    },
    "scrolled": true
   },
   "outputs": [],
   "source": [
    "# documents = loader.load()"
   ]
  },
  {
   "cell_type": "markdown",
   "id": "8435af92-984c-443b-8d18-f918e8438894",
   "metadata": {},
   "source": [
    "### Splitter for text"
   ]
  },
  {
   "cell_type": "code",
   "execution_count": null,
   "id": "6b725336-d475-4933-9d05-a8da2f066714",
   "metadata": {},
   "outputs": [],
   "source": [
    "# splitter = RecursiveCharacterTextSplitter(chunk_size=500, chunk_overlap=100)\n",
    "# split_documents = splitter.split_documents(documents)"
   ]
  },
  {
   "cell_type": "code",
   "execution_count": null,
   "id": "8b44892c-8c5b-4bb0-901c-1d9477d49011",
   "metadata": {},
   "outputs": [],
   "source": [
    "# for i, doc in enumerate(split_documents[0:0]):  # fiest 5 as an example\n",
    "#     print(f\"\\n Document {i + 1}:\")\n",
    "#     print(doc.page_content)\n",
    "#     print(doc.metadata)"
   ]
  },
  {
   "cell_type": "markdown",
   "id": "aeafdf2c-84f7-4f49-837a-8baeae90c861",
   "metadata": {},
   "source": [
    "## Importing the embeddings model from HuggingFace. I'm using sentence-transformers/all-mpnet-base-v2"
   ]
  },
  {
   "cell_type": "code",
   "execution_count": 9,
   "id": "df56696f-2ad3-40ac-8388-759114195b43",
   "metadata": {},
   "outputs": [],
   "source": [
    "embeddings = HuggingFaceEmbeddings(model_name=\"sentence-transformers/all-mpnet-base-v2\")"
   ]
  },
  {
   "cell_type": "markdown",
   "id": "598013d2-eb44-44a1-b8ac-a02d03159558",
   "metadata": {},
   "source": [
    "## Initializing Qdrant vector store"
   ]
  },
  {
   "cell_type": "code",
   "execution_count": 10,
   "id": "c05fc78d-69e1-49bd-98d5-023c49e860e7",
   "metadata": {},
   "outputs": [],
   "source": [
    "vectorstore = QdrantVectorStore(\n",
    "    embedding=embeddings, client=client, collection_name=collection_name\n",
    ")"
   ]
  },
  {
   "cell_type": "code",
   "execution_count": null,
   "id": "1b29e7c1-037a-40c2-abd0-22103a173dc2",
   "metadata": {},
   "outputs": [],
   "source": [
    "# vectorstore = FAISS.from_documents(split_documents, embeddings)"
   ]
  },
  {
   "cell_type": "markdown",
   "id": "2fdddea4-458c-4473-86c7-bbeb03fda2f7",
   "metadata": {},
   "source": [
    "### Adding splitted documents to vectorstore"
   ]
  },
  {
   "cell_type": "code",
   "execution_count": null,
   "id": "2119d258-49c6-4439-8377-38509463b965",
   "metadata": {},
   "outputs": [],
   "source": [
    "# vectorstore.add_documents(split_documents)"
   ]
  },
  {
   "cell_type": "markdown",
   "id": "8f84fd53-6b64-48fe-afb3-a00584330e68",
   "metadata": {},
   "source": [
    "## Creating a retriever"
   ]
  },
  {
   "cell_type": "code",
   "execution_count": 35,
   "id": "c575d2c6-fa1e-42b0-9f05-a4d4ab90cec9",
   "metadata": {},
   "outputs": [],
   "source": [
    "retriever = vectorstore.as_retriever(search_kwargs={\"k\": 5})"
   ]
  },
  {
   "cell_type": "markdown",
   "id": "5365c924-df50-4f8d-b0ca-5ff003654ca7",
   "metadata": {},
   "source": [
    "## Importing Mistral-7B-instruct model from Ollama"
   ]
  },
  {
   "cell_type": "code",
   "execution_count": 36,
   "id": "8006d9ec-d6c7-4f34-8601-6e162e72b5f7",
   "metadata": {},
   "outputs": [],
   "source": [
    "llm_ollama = OllamaLLM(\n",
    "    model=\"mistral:instruct\", \n",
    "    temperature=0.2, \n",
    "    top_k=50, \n",
    "    top_p=1, \n",
    "    verbose=True,\n",
    ")"
   ]
  },
  {
   "cell_type": "code",
   "execution_count": 37,
   "id": "696b5eb0-c7fc-402e-9e9c-d2ab640045dc",
   "metadata": {},
   "outputs": [],
   "source": [
    "chat_llm_ollama = ChatOllama(\n",
    "        model=\"mistral:instruct\", \n",
    "        temperature=0.2,\n",
    "        verbose=True, \n",
    "        top_k=50,\n",
    "        top_p=1)"
   ]
  },
  {
   "cell_type": "markdown",
   "id": "06d4cad3-3e05-4f33-ad44-2fcd287a49f0",
   "metadata": {},
   "source": [
    "## Importing local model Mistral-7B-instruct from gguf file"
   ]
  },
  {
   "cell_type": "code",
   "execution_count": 48,
   "id": "77aa35dfb52d09e9",
   "metadata": {
    "ExecuteTime": {
     "end_time": "2025-07-09T06:32:06.026711Z",
     "start_time": "2025-07-09T06:32:06.022305Z"
    }
   },
   "outputs": [],
   "source": [
    "local_llm_name = \"mistral-7b-instruct-v0.2.Q5_K_S.gguf\""
   ]
  },
  {
   "cell_type": "code",
   "execution_count": 49,
   "id": "287cc3dd-8518-4506-af3f-2fe1c2aa35b8",
   "metadata": {},
   "outputs": [],
   "source": [
    "config = {\n",
    "    \"max_new_tokens\": 2048,\n",
    "    \"context_length\": 2048,\n",
    "    \"repetition_penalty\": 1.1,\n",
    "    \"temperature\": 0.2,\n",
    "    \"top_k\": 50,\n",
    "    \"top_p\": 1,\n",
    "    \"stream\": True,\n",
    "    \"threads\": int(os.cpu_count() / 2),\n",
    "}"
   ]
  },
  {
   "cell_type": "code",
   "execution_count": 50,
   "id": "0bd85f67-a932-4625-9285-f3a03b6611f2",
   "metadata": {
    "scrolled": true
   },
   "outputs": [],
   "source": [
    "local_llm = CTransformers(model=local_llm, model_type=\"mistral\", lib=\"avx2\", **config)"
   ]
  },
  {
   "cell_type": "markdown",
   "id": "ab4868da-b694-44f6-b9ca-c3649568dfd5",
   "metadata": {},
   "source": [
    "## Creating a prompt template with my context and question"
   ]
  },
  {
   "cell_type": "code",
   "execution_count": 14,
   "id": "0dc7075f-2a9d-4f58-9f5d-39ef19dee38e",
   "metadata": {},
   "outputs": [],
   "source": [
    "prompt_template = \"\"\"\n",
    "You're a literature expert on the magic world of 'Harry Potter' and 'Middle Earth'.\n",
    "Your task is to answer the user's question using the information from provided context, book quotes.\n",
    "\n",
    "Context:{context}\n",
    "Question:{question}\n",
    "\n",
    "Please be accurate and do not make up facts. If you don't know the answer or it is unclear, explain what is known and what is unclear.\n",
    "\"\"\"\n",
    "prompt = PromptTemplate(\n",
    "    input_variables=[\"context\", \"question\"],\n",
    "    template=prompt_template,\n",
    ")"
   ]
  },
  {
   "cell_type": "code",
   "execution_count": 15,
   "id": "10fdc709-d083-4a40-99a2-d54d2101b5b2",
   "metadata": {},
   "outputs": [],
   "source": [
    "chain_type_kwargs = {\"prompt\": prompt}"
   ]
  },
  {
   "cell_type": "markdown",
   "id": "d0043eef-9b63-4dc1-a506-f7a1560b21c1",
   "metadata": {},
   "source": [
    "## Using Ollama Mistral-instruct model"
   ]
  },
  {
   "cell_type": "markdown",
   "id": "cb64a40b-4e14-4413-9a83-f0649c237edb",
   "metadata": {},
   "source": [
    "### Creating a chain to generate the answer"
   ]
  },
  {
   "cell_type": "code",
   "execution_count": 38,
   "id": "98efac53-156a-4dff-bcc2-0e84ec762ac5",
   "metadata": {
    "scrolled": true
   },
   "outputs": [],
   "source": [
    "qa = RetrievalQA.from_chain_type(\n",
    "    llm=llm_ollama,\n",
    "    retriever=retriever,\n",
    "    chain_type=\"stuff\",\n",
    "    chain_type_kwargs=chain_type_kwargs,\n",
    "    return_source_documents=True,\n",
    "    verbose=True,\n",
    ")"
   ]
  },
  {
   "cell_type": "markdown",
   "id": "86cad450-4b7f-48dd-bc7c-37f9a2364625",
   "metadata": {},
   "source": [
    "#### 1 Question"
   ]
  },
  {
   "cell_type": "code",
   "execution_count": 39,
   "id": "3aef99b1-6a82-431f-af42-0d65d18554dd",
   "metadata": {},
   "outputs": [],
   "source": [
    "query=\"Tell me about the text on the One Ring.\"\n"
   ]
  },
  {
   "cell_type": "code",
   "execution_count": 40,
   "id": "f226095b-ce12-408d-a32c-20583df8eb4b",
   "metadata": {
    "scrolled": true
   },
   "outputs": [
    {
     "name": "stdout",
     "output_type": "stream",
     "text": [
      "\n",
      "\n",
      "\u001b[1m> Entering new RetrievalQA chain...\u001b[0m\n",
      "\n",
      "\u001b[1m> Finished chain.\u001b[0m\n"
     ]
    }
   ],
   "source": [
    "result = qa.invoke(query)"
   ]
  },
  {
   "cell_type": "code",
   "execution_count": 41,
   "id": "2e22337f-dd38-4408-a296-f9ba7d184422",
   "metadata": {},
   "outputs": [
    {
     "name": "stdout",
     "output_type": "stream",
     "text": [
      "\n",
      "Answer:\n",
      " The text inscribed on the One Ring is a verse from Elven-lore, specifically from J.R.R. Tolkien's 'The Lord of the Rings'. The full verse reads: \"One Ring to rule them all, One Ring to find them, One Ring to bring them all and in the Darkness bind them. In the Land of Mordor where the Shadows lie.\"\n",
      "\n",
      "This verse is a part of a longer poem that describes the history and power of the Rings of Power. The One Ring was said to be the first of the Seven Rings forged by Sauron, though it was given to Durin III, King of Khazad-dûm, by Elven-smiths themselves.\n",
      "\n",
      "The text on the ring is written in a flowing script made up of lines of fire that appear bright and remote, as if from a great depth. The exact meaning of the symbols \"#n_88\" within the verse is not explicitly explained in the provided context, but it seems to be part of the Elven-lore associated with the ring.\n",
      "\n",
      "It's important to note that this information comes from 'The Hobbit', and while Tolkien expanded on the lore of Middle Earth in 'The Lord of the Rings', some details may not be fully explained or clarified until later books.\n",
      "\n",
      "Sources:\n",
      "\n",
      " Source 1:\n",
      "‘It is quite cool,’ said Gandalf. ‘Take it!’ Frodo received it on his shrinking palm: it seemed to have become thicker and heavier than ever.\n",
      "\n",
      "‘Hold it up!’ said Gandalf. ‘And look closely!’\n",
      "\n",
      "As Frodo did so, he now saw fine lines, finer than the finest pen-strokes, running along the ring, outside and inside: lines of fire that seemed to form the letters of a flowing script: #n_88. They shone piercingly bright, and yet remote, as if out of a great depth.\n",
      "Source: data\\txt_data\\lotr\\Tolkien J.. The Lord of the Rings.txt\n",
      "\n",
      " Source 2:\n",
      "One Ring: #n_88 to rule them all, One Ring to find them, One Ring to bring them all and in the Darkness bind them.\n",
      "Source: data\\txt_data\\lotr\\Tolkien J.. The Lord of the Rings.txt\n",
      "\n",
      " Source 3:\n",
      "It is only two lines of a verse long known in Elven-lore:\n",
      "\n",
      "\t\tThree Rings for the Elven-kings under the sky,\n",
      "\t\t   Seven for the Dwarf-lords in their halls of stone,\n",
      "\t\tNine for Mortal Men doomed to die,\n",
      "\t\t   One for the Dark Lord on his dark throne\n",
      "\t\tIn the Land of Mordor where the Shadows lie.\n",
      "\t\t   One Ring to rule them all, One Ring to find them,\n",
      "\t\tOne Ring to bring them all and in the darkness bind them\n",
      "\t\t   In the Land of Mordor where the Shadows lie.’\n",
      "Source: data\\txt_data\\lotr\\Tolkien J.. The Lord of the Rings.txt\n",
      "\n",
      " Source 4:\n",
      "Of this Ring something may be said here. It was believed by the Dwarves of Durin’s Folk to be the first of the Seven that was forged; and they say that it was given to the King of Khazad-d&#251;m, Durin III, by the Elven-smiths themselves and not by Sauron, though doubtless his evil power was on it, since he had aided in the forging of all the Seven. But the possessors of the Ring did not display it or speak of it, and they seldom surrendered it until near death, so that others did not know for\n",
      "Source: data\\txt_data\\lotr\\Tolkien J.. The Lord of the Rings.txt\n",
      "\n",
      " Source 5:\n",
      "The Hobbit\n",
      "\n",
      "\n",
      "\n",
      "NOTE ON THE TEXT\n",
      "Source: data\\txt_data\\lotr\\Tolkien John. The Hobbit.txt\n"
     ]
    }
   ],
   "source": [
    "print(\"\\nAnswer:\")\n",
    "print(result[\"result\"])\n",
    "\n",
    "print(\"\\nSources:\")\n",
    "for i, doc in enumerate(result[\"source_documents\"]):\n",
    "    print(f\"\\n Source {i + 1}:\")\n",
    "    print(doc.page_content[:500])\n",
    "    print(\"Source:\", doc.metadata.get(\"source\", \"unknown\"))"
   ]
  },
  {
   "cell_type": "markdown",
   "id": "8cfbb85a-fb30-450f-915f-2eb8be6c791e",
   "metadata": {},
   "source": [
    "#### 2 Question"
   ]
  },
  {
   "cell_type": "code",
   "execution_count": 42,
   "id": "5e29487b-0921-48ee-add5-ea8c2ade353d",
   "metadata": {},
   "outputs": [],
   "source": [
    "query = \"Tell about the story of Deathly Hallows\""
   ]
  },
  {
   "cell_type": "code",
   "execution_count": 43,
   "id": "7b4e180f-1b61-450c-aae9-5d84f6af0c52",
   "metadata": {},
   "outputs": [
    {
     "name": "stdout",
     "output_type": "stream",
     "text": [
      "\n",
      "\n",
      "\u001b[1m> Entering new RetrievalQA chain...\u001b[0m\n",
      "\n",
      "\u001b[1m> Finished chain.\u001b[0m\n"
     ]
    }
   ],
   "source": [
    "result = qa.invoke(query)"
   ]
  },
  {
   "cell_type": "code",
   "execution_count": 44,
   "id": "3412e785-3896-48c0-ad6f-614329e86c76",
   "metadata": {},
   "outputs": [
    {
     "name": "stdout",
     "output_type": "stream",
     "text": [
      "\n",
      "Answer:\n",
      " The Deathly Hallows refer to three magical artifacts mentioned in the tale \"The Tale of the Three Brothers.\" These objects are said to give their possessor mastery over death. The story is not explicitly detailed within the Harry Potter series, but it is referenced multiple times.\n",
      "\n",
      "1. The Invisibility Cloak: This cloak was owned by the first brother and allows its wearer to become invisible. It plays a significant role in the series, as Harry inherits this cloak from his father.\n",
      "\n",
      "2. The Resurrection Stone: This stone is said to bring back the dead for one minute. It is one of the Hallows that Voldemort seeks, and Dumbledore believes it could potentially bring back Harry's parents. However, its exact role in the story remains unclear.\n",
      "\n",
      "3. The Elder Wand (also known as the Deathstick or the wand of Destiny): This wand is said to be the most powerful wand ever made and chooses its master. It is another object that Voldemort seeks, and it plays a crucial role in the series' events.\n",
      "\n",
      "The exact nature of these artifacts and their connection to death are not fully explained within the text, but it is clear that they hold great power and are dangerous. Dumbledore warns Harry about their allure and the dangers they pose. The full story of the Deathly Hallows can be found in \"The Tale of the Three Brothers,\" which is a story from the collection of tales known as the Ancient Runes textbook.\n",
      "\n",
      "Sources:\n",
      "\n",
      " Source 1:\n",
      "\"But there's no mention of the words 'Deathly Hallows' in the story,\" said \n",
      "Hermione. \n",
      "\n",
      "\"Well, of course not,\" said Xenophilius, maddeningly smug. \"That is a children's \n",
      "tale, told to amuse rather than to instruct. Those of us who understand these matters, \n",
      "however, recognize that the ancient story refers to three objects, or Hallows, which, if \n",
      "united, will make the possessor master of Death.\"\n",
      "Source: data\\txt_data\\harry_potter\\Harry Potter and the Deathly Hallows.txt\n",
      "\n",
      " Source 2:\n",
      "“And at the heart of our schemes, the Deathly Hallows! How they fascinated him, \n",
      "how they fascinated both of us! The unbeatable wand, the weapon that would lead us to \n",
      "power! The Resurrection Stone – to him, though I pretended not to know it, it meant an \n",
      "army of Inferi! To me, I confess, it meant the return of my parents, and the lifting of all \n",
      "responsibility from my shoulders.\n",
      "Source: data\\txt_data\\harry_potter\\Harry Potter and the Deathly Hallows.txt\n",
      "\n",
      " Source 3:\n",
      "“The Hallows, the Hallows,” murmured Dumbledore. “A desperate man’s \n",
      "dream!” \n",
      "\n",
      " “But they’re real!” \n",
      "\n",
      " “Real, and dangerous, and a lure for fools,” said Dumbledore. “And I was such a \n",
      "fool. But you know, don’t you? I have no secrets from you anymore. You know.” \n",
      "\n",
      " “What do I know?” \n",
      "\n",
      " Dumbledore turned his whole body to face Harry, and tears still sparkled in the \n",
      "brilliantly blue eyes. \n",
      "\n",
      " “Master of death, Harry, master of Death! Was I better, ultimately, than \n",
      "Voldemort?”\n",
      "Source: data\\txt_data\\harry_potter\\Harry Potter and the Deathly Hallows.txt\n",
      "\n",
      " Source 4:\n",
      "\"But what are the Deathly Hallows?\" asked Hermione. \n",
      "\n",
      "Xenophilius set aside his empty teacup. \n",
      "\n",
      "\"I assume that you are familiar with 'The Tale of the Three Brothers'?\" \n",
      "\n",
      "Harry said, \"No,\" but Ron and Hermione both said, \"Yes.\" Xenophilius nodded \n",
      "gravely. \n",
      "\n",
      "\"Well, well, Mr. Potter, the whole thing starts with 'The Tale of the Three \n",
      "Brothers' . . . I have a copy somewhere . . .\"\n",
      "Source: data\\txt_data\\harry_potter\\Harry Potter and the Deathly Hallows.txt\n",
      "\n",
      " Source 5:\n",
      "The enchanted ceiling of the Great Hall was dark and scattered with stars, and \n",
      "below it the four long House tables were lined with disheveled students, some in \n",
      "traveling cloaks, others in dressing gowns. Here and there shone the pearly white figures \n",
      "of the school ghosts. Every eye, living and dead was fixed upon Professor McGonagall, \n",
      "who was speaking from the raised platform at the top of the Hall. Behind her stood the\n",
      "Source: data\\txt_data\\harry_potter\\Harry Potter and the Deathly Hallows.txt\n"
     ]
    }
   ],
   "source": [
    "print(\"\\nAnswer:\")\n",
    "print(result[\"result\"])\n",
    "\n",
    "print(\"\\nSources:\")\n",
    "for i, doc in enumerate(result[\"source_documents\"]):\n",
    "    print(f\"\\n Source {i + 1}:\")\n",
    "    print(doc.page_content[:500])\n",
    "    print(\"Source:\", doc.metadata.get(\"source\", \"unknown\"))"
   ]
  },
  {
   "cell_type": "markdown",
   "id": "3da51672-8cfa-42fa-824d-41fcbe99c169",
   "metadata": {},
   "source": [
    "#### 3 Question"
   ]
  },
  {
   "cell_type": "code",
   "execution_count": 45,
   "id": "90dd444b-9c8c-48e8-9906-10595a2ed826",
   "metadata": {},
   "outputs": [],
   "source": [
    "query = \"What animal was Harry's patronus?\""
   ]
  },
  {
   "cell_type": "code",
   "execution_count": 46,
   "id": "ca417d08-1a0f-4d35-8ec2-c3e9efd12e8e",
   "metadata": {},
   "outputs": [
    {
     "name": "stdout",
     "output_type": "stream",
     "text": [
      "\n",
      "\n",
      "\u001b[1m> Entering new RetrievalQA chain...\u001b[0m\n",
      "\n",
      "\u001b[1m> Finished chain.\u001b[0m\n"
     ]
    }
   ],
   "source": [
    "result = qa.invoke(query)"
   ]
  },
  {
   "cell_type": "code",
   "execution_count": 47,
   "id": "e2be61cb-43f8-4c1c-b0b3-011bb63eb841",
   "metadata": {},
   "outputs": [
    {
     "name": "stdout",
     "output_type": "stream",
     "text": [
      "\n",
      "Answer:\n",
      " The animal that was Harry Potter's Patronus was a stag. This is confirmed in the quote provided where Harry whispers \"Prongs,\" which is a nickname for his friend Sirius Black, who transforms into a large black dog (an Animagus) and whose Patronus is also a stag. The stag is a symbol of purity and courage in the 'Harry Potter' series, often associated with Dumbledore and Sirius Black.\n",
      "\n",
      "Sources:\n",
      "\n",
      " Source 1:\n",
      "The Patronus turned. It was cantering back toward Harry across the still surface of the water. It wasn't a horse. It wasn't a unicorn, either. It was a stag. It was shining brightly as the moon above ... it was coming back to him....\n",
      "　　It stopped on the bank. Its hooves made no mark on the soft ground as it stared at Harry with its large, silver eyes. Slowly, it bowed its antlered head. And Harry realized... \"Prongs, \"he whispered.\n",
      "Source: data\\txt_data\\harry_potter\\Harry Potter and the Prisoner of Azkaban.txt\n",
      "\n",
      " Source 2:\n",
      "'Harry, I think I'm doing it!' yelled Seamus, who had been brought along to his first ever DA meeting by Dean. 'Look - ah - 'it's gone . . . but it was definitely something hairy, Harry!'\n",
      "    Hermione's Patronus, a shining silver otter, was gambolling around her.\n",
      "    They are sort of nice, aren't they?' she said, looking at it fondly.\n",
      "Source: data\\txt_data\\harry_potter\\Harry Potter and the Order of the Phoenix.txt\n",
      "\n",
      " Source 3:\n",
      "\"Tonks's Patronus has changed its form,\" he told him. \"Snape said so anyway. I didn't know that could happen. Why would your Patronus change?\" \n",
      "Lupin took his time chewing his turkey and swallowing before saying slowly, \"Sometimes ... a great shock ... an emotional up-heaval ...\" \n",
      "\"It looked big, and it had four legs,\" said Harry, struck by a sud-den thought and lowering his voice. \"Hey ... it couldn't be — ?\"\n",
      "Source: data\\txt_data\\harry_potter\\Harry Potter and The Half-Blood Prince.txt\n",
      "\n",
      " Source 4:\n",
      "'Oh, don't be such a killjoy,' said Cho brightly, watching her silvery swan-shaped Patronus soar around the Room of Requirement C-Uring their last lesson before Easter. They're so pretty!'\n",
      "    They're not supposed to be pretty, they're supposed to protect you,' said Harry patiently. 'What we really need is a Boggart or something; that's how I learned, I had to conjure a Patronus while t'le Boggart was pretending to be a Dementor - '\n",
      "Source: data\\txt_data\\harry_potter\\Harry Potter and the Order of the Phoenix.txt\n",
      "\n",
      " Source 5:\n",
      "I'll send a Patronus back at'em! I'm not having'em near me, I've told you that. I'm not \n",
      "having it!\" \n",
      "\n",
      " \"That wasn't your Patronus,\" said a Death Eater. \"That was a stag. It was \n",
      "Potter's!\" \n",
      "\n",
      " \"Stag!\" roared the barman, and he pulled out a wand. \"Stag! You idiot - Expecto \n",
      "Patronum!\" \n",
      "\n",
      " Something huge and horned erupted from the wand. Head down, it charged \n",
      "toward the High Street, and \n",
      "\n",
      "out of sight. \n",
      "\n",
      " \"That's not what I saw\" said the Death Eater, though was less certainly\n",
      "Source: data\\txt_data\\harry_potter\\Harry Potter and the Deathly Hallows.txt\n"
     ]
    }
   ],
   "source": [
    "print(\"\\nAnswer:\")\n",
    "print(result[\"result\"])\n",
    "\n",
    "print(\"\\nSources:\")\n",
    "for i, doc in enumerate(result[\"source_documents\"]):\n",
    "    print(f\"\\n Source {i + 1}:\")\n",
    "    print(doc.page_content[:500])\n",
    "    print(\"Source:\", doc.metadata.get(\"source\", \"unknown\"))"
   ]
  },
  {
   "cell_type": "markdown",
   "id": "64a9e98e-5d0a-48e0-9519-3671d88a661e",
   "metadata": {},
   "source": [
    "#### 4 question"
   ]
  },
  {
   "cell_type": "code",
   "execution_count": 48,
   "id": "c2ecb516-a303-4f5f-9566-1aff25ea9b89",
   "metadata": {},
   "outputs": [],
   "source": [
    "query = \"Describe Harry and Ginny's relationships throught books\""
   ]
  },
  {
   "cell_type": "code",
   "execution_count": 49,
   "id": "8eb8b2b3-9306-4b5d-ac00-82f5f1937c06",
   "metadata": {},
   "outputs": [
    {
     "name": "stdout",
     "output_type": "stream",
     "text": [
      "\n",
      "\n",
      "\u001b[1m> Entering new RetrievalQA chain...\u001b[0m\n",
      "\n",
      "\u001b[1m> Finished chain.\u001b[0m\n"
     ]
    }
   ],
   "source": [
    "result = qa.invoke(query)"
   ]
  },
  {
   "cell_type": "code",
   "execution_count": 50,
   "id": "e51239cb-bb3c-42c0-920f-5ea674f9779e",
   "metadata": {},
   "outputs": [
    {
     "name": "stdout",
     "output_type": "stream",
     "text": [
      "\n",
      "Answer:\n",
      " In the Harry Potter series by J.K. Rowling, the relationship between Harry Potter and Ginny Weasley evolves over time, starting as a close friendship and eventually developing into romantic feelings. However, their relationship faces numerous challenges due to external factors, particularly Harry's responsibilities as the Chosen One in his fight against Voldemort.\n",
      "\n",
      "Throughout the books, it is clear that Ginny has had feelings for Harry since she was a young girl. This becomes more apparent during their shared summer at the Burrow in Harry Potter and the Chamber of Secrets, where they bond over Quidditch, teasing Ron, and laughing about Bill and his adventures with Phlegm. However, Harry views Ginny as more of a younger sister due to their close relationship.\n",
      "\n",
      "As they grow older, their feelings for each other become more complex. In Harry Potter and the Order of the Phoenix, Harry begins to realize that he has deeper feelings for Ginny, but he is hesitant to act on them due to his responsibilities and the danger he faces. This is evident when he imagines Ginny marrying a tall, faceless, and unpleasant stranger, which fills him with dread.\n",
      "\n",
      "In Harry Potter and the Half-Blood Prince, their relationship becomes more strained as Harry becomes distant and focused on his studies and his mission to find and destroy Horcruxes. Ginny becomes frustrated by Harry's secrecy and his unwillingness to confide in her about his personal life. This tension reaches a boiling point when Harry breaks up with her, stating that they cannot be together due to the dangers he faces.\n",
      "\n",
      "Despite their breakup, it is clear that both Harry and Ginny still care for each other deeply. In Harry Potter and the Deathly Hallows, Ginny supports Harry and Ron in their quest to find and destroy Voldemort's remaining Horcruxes, even though she is not a member of the Trio. She also plays a crucial role in helping them escape from Malfoy Manor by distracting Bellatrix Lestrange, allowing them to escape undetected.\n",
      "\n",
      "In the end, Harry and Ginny reunite after Voldemort's defeat, and they eventually marry and have three children together. However, their relationship is not without its challenges, as they both struggle to adjust to normal life after the war and deal with the trauma of their experiences. Overall, their relationship is marked by a deep bond of friendship, mutual respect, and love that endures even in the face of great adversity.\n",
      "\n",
      "Sources:\n",
      "\n",
      " Source 1:\n",
      "Harry lay awake for a long time, looking up at the canopy of his four-poster and trying to convince himself that his feelings for Ginny were entirely elder-brotherly. They had lived, had they not, like brother and sister all summer, playing Quidditch, teasing Ron, and having a laugh about Bill and Phlegm? He had known Ginny for years now. ... It was natural that he should feel protective . . . natural that he should want to look out for her . . . want to rip Dean limb from limb for kissing\n",
      "Source: data\\txt_data\\harry_potter\\Harry Potter and The Half-Blood Prince.txt\n",
      "\n",
      " Source 2:\n",
      "\"Yeah, but you go snogging her now and she's just going to get her hopes up \n",
      "again--\" \n",
      "\n",
      "\"She's not an idiot, she knows it can't happen, she's not expecting us to--to end up \n",
      "married, or--\" \n",
      "\n",
      "As he said it, a vivid picture formed in Harry's mind of Ginny in a white dress, \n",
      "marrying a tall, faceless, and unpleasant stranger. \n",
      "\n",
      " \n",
      "\n",
      "In one spiraling moment it seemed to hit him: Her future was free and \n",
      "unencumbered, whereas his...he could see nothing but Voldemort ahead.\n",
      "Source: data\\txt_data\\harry_potter\\Harry Potter and the Deathly Hallows.txt\n",
      "\n",
      " Source 3:\n",
      "\"Leave him alone, he didn't want all that!\" said Ginny. It was the first time she had spoken in front of Harry. She was glaring at Malfoy.\n",
      "　　\"Potter, you've got yourself a girlfriend!\" drawled Malfoy. Ginny went scarlet as Ron and Hermione fought their way over, both clutching stacks of Lockhart's books.\n",
      "　　\"Oh, it's you,\" said Ron, looking at Malfoy as if he were something unpleasant on the sole of his shoe. \"Bet you're surprised to see Harry here, eh?\"\n",
      "Source: data\\txt_data\\harry_potter\\Harry Potter and the Chamber of Secrets.txt\n",
      "\n",
      " Source 4:\n",
      "\"I've already told you!\" Hermione said very angrily. \"I'm going with someone else!\"\n",
      "　　And she stormed off toward the girls' dormitories again.\n",
      "　　\"She's lying,\" said Ron flatly, watching her go.\n",
      "　　\"She's not,\" said Ginny quietly.\n",
      "　　\"Who is it then?\" said Ron sharply.\n",
      "　　\"I'm not telling you, it's her business,\" said Ginny.\n",
      "　　\"Right,\" said Ron, who looked extremely put out, \"this is getting stupid. Ginny, you can go with Harry, and I'll just -\"\n",
      "Source: data\\txt_data\\harry_potter\\Harry Potter and the Goblet of Fire.txt\n",
      "\n",
      " Source 5:\n",
      "'Ginny, listen ...' he said very quietly, as the buzz of con-versation grew louder around them and people began to get to their feet. 'I can't be involved with you any more. We've got to stop seeing each other. We can't be together.' \n",
      "She said, with an oddly twisted smile, 'It's for some stupid, noble reason, isn't it?' \n",
      "'It's been like ... like something out of someone else's life, these last few weeks with you,' said Harry. 'But 1 can't ... we can't ... I've got things to do alone now.'\n",
      "Source: data\\txt_data\\harry_potter\\Harry Potter and The Half-Blood Prince.txt\n"
     ]
    }
   ],
   "source": [
    "print(\"\\nAnswer:\")\n",
    "print(result[\"result\"])\n",
    "\n",
    "print(\"\\nSources:\")\n",
    "for i, doc in enumerate(result[\"source_documents\"]):\n",
    "    print(f\"\\n Source {i + 1}:\")\n",
    "    print(doc.page_content[:500])\n",
    "    print(\"Source:\", doc.metadata.get(\"source\", \"unknown\"))"
   ]
  },
  {
   "cell_type": "markdown",
   "id": "a25f7694-350e-4594-b67f-428c039d7ca7",
   "metadata": {},
   "source": [
    "#### 5 Question"
   ]
  },
  {
   "cell_type": "code",
   "execution_count": 51,
   "id": "531dfc59-7c9a-441f-8034-108656df3b08",
   "metadata": {},
   "outputs": [],
   "source": [
    "query = \"Describe the appearence of Harry Potter and Ginny Weasley.\""
   ]
  },
  {
   "cell_type": "code",
   "execution_count": 52,
   "id": "3439aabd-0c54-478b-8709-81dd9c23d0e6",
   "metadata": {},
   "outputs": [
    {
     "name": "stdout",
     "output_type": "stream",
     "text": [
      "\n",
      "\n",
      "\u001b[1m> Entering new RetrievalQA chain...\u001b[0m\n",
      "\n",
      "\u001b[1m> Finished chain.\u001b[0m\n"
     ]
    }
   ],
   "source": [
    "result = qa.invoke(query)"
   ]
  },
  {
   "cell_type": "code",
   "execution_count": 53,
   "id": "05d0d16f-4dd7-4f8f-99b6-34072dd84f42",
   "metadata": {},
   "outputs": [
    {
     "name": "stdout",
     "output_type": "stream",
     "text": [
      "\n",
      "Answer:\n",
      " In the provided context, neither Harry Potter nor Ginny Weasley's appearance is explicitly described. However, we can infer some details based on their association with other characters.\n",
      "\n",
      "Harry Potter is not described in this specific context, but we know from previous books that he has black hair and glasses. He is also often noted to be quite small for his age.\n",
      "\n",
      "Ginny Weasley, Harry's cousin, is part of the Weasley family, which includes six brothers (Fred, George, Ron, Percy, Bill, and Charlie) and one sister (Ginny). In this context, Ginny is described as being in a picture with her brother Ron. The picture does not show their hair color, but we know from other books that the Weasley children have red hair. So, it can be inferred that Ginny also has red hair like her siblings.\n",
      "\n",
      "The description of Ginny's appearance beyond this is not provided in the given context.\n",
      "\n",
      "Sources:\n",
      "\n",
      " Source 1:\n",
      "haired; Mr. Weasley, kind-faced, balding, his spectacles a little awry; Mad-Eye, battle-\n",
      "worn, one-legged, his bright blue magical eye whizzing in its socket; Tonks, whose short \n",
      "hair was her favorite shade of bright pink; Lupin, grayer, more lined; Fleur, slender and \n",
      "beautiful, with her long silvery blonde hair; Kingsley, bald and broad-shouldered; Hagrid, \n",
      "with his wild hair and beard, standing hunchbacked to avoid hitting his head on the\n",
      "Source: data\\txt_data\\harry_potter\\Harry Potter and the Deathly Hallows.txt\n",
      "\n",
      " Source 2:\n",
      "'Oooh, he looks just like I thought he would,' said the witch who was holding her lit wand aloft. She looked the youngest there; she had a pale heart-shaped face, dark twinkling eyes, and short spiky hair that was a violent shade of violet. Wotcher, Harry!'\n",
      "    'Yeah, I see what you mean, Remus,' said a bald black wizard standing furthest back - he had a deep, slow voice and wore a single gold hoop in his ear - 'he looks exactly like James.'\n",
      "Source: data\\txt_data\\harry_potter\\Harry Potter and the Order of the Phoenix.txt\n",
      "\n",
      " Source 3:\n",
      "On the Saturday morning of the Hogsmeade trip, Harry bid good-bye to Ron and Hermione, who were wrapped in cloaks and scarves, then turned up the marble staircase alone, and headed back toward Gryffindor Tower. Snow had started to fall outside the windows, and the castle was very still and quiet.\n",
      "　　\"Psst -- Harry!\"\n",
      "　　He turned, halfway along the third-floor corridor, to see Fred and George peering out at him from behind a statue of a humpbacked, one-eyed witch.\n",
      "Source: data\\txt_data\\harry_potter\\Harry Potter and the Prisoner of Azkaban.txt\n",
      "\n",
      " Source 4:\n",
      "Harry scanned the moving photograph, and a grin spread across his face as he saw all nine of the Weasleys waving furiously at him, standing in front of a large pyramid. Plump little Mrs. Weasley; tail, balding Mr. Weasley; six sons; and one daughter, all (though the black-and-white picture didn't show it) with flaming-red hair. Right in the middle of the picture was Ron, tall and gangling, with his pet rat, Scabbers, on his shoulder and his arm around his little sister, Ginny.\n",
      "Source: data\\txt_data\\harry_potter\\Harry Potter and the Prisoner of Azkaban.txt\n",
      "\n",
      " Source 5:\n",
      "Aunt Petunia shrieked and fell backward over the coffee table; Uncle Vernon caught her before she hit the floor, and gaped, speechless, at the Weasleys, all of whom had bright red hair, including Fred and George, who were identical to the last freckle.\n",
      "　　\"That's better,\" panted Mr. Weasley, brushing dust from his long green robes and straightening his glasses. \"Ah - you must be Harry's aunt and uncle!\"\n",
      "Source: data\\txt_data\\harry_potter\\Harry Potter and the Goblet of Fire.txt\n"
     ]
    }
   ],
   "source": [
    "print(\"\\nAnswer:\")\n",
    "print(result[\"result\"])\n",
    "\n",
    "print(\"\\nSources:\")\n",
    "for i, doc in enumerate(result[\"source_documents\"]):\n",
    "    print(f\"\\n Source {i + 1}:\")\n",
    "    print(doc.page_content[:500])\n",
    "    print(\"Source:\", doc.metadata.get(\"source\", \"unknown\"))"
   ]
  },
  {
   "cell_type": "markdown",
   "id": "7a77f2b2-712a-4055-9dcf-cf57af68a142",
   "metadata": {},
   "source": [
    "## Using ChatOllama"
   ]
  },
  {
   "cell_type": "code",
   "execution_count": 54,
   "id": "f572d6a6-a3d7-42b3-8cd1-2541d59883e0",
   "metadata": {},
   "outputs": [],
   "source": [
    "qa_chat = RetrievalQA.from_chain_type(\n",
    "    llm=chat_llm_ollama,\n",
    "    retriever=retriever,\n",
    "    chain_type=\"stuff\",\n",
    "    chain_type_kwargs=chain_type_kwargs,\n",
    "    return_source_documents=True,\n",
    "    verbose=True,\n",
    ")"
   ]
  },
  {
   "cell_type": "code",
   "execution_count": 55,
   "id": "5dd11b95-59cc-4bb2-9ff0-71bdd5c556cc",
   "metadata": {},
   "outputs": [],
   "source": [
    "query=\"Tell me about the text on the One Ring.\""
   ]
  },
  {
   "cell_type": "code",
   "execution_count": 56,
   "id": "3b599edb-dba8-4541-bb3c-f126d9a6f473",
   "metadata": {},
   "outputs": [
    {
     "name": "stdout",
     "output_type": "stream",
     "text": [
      "\n",
      "\n",
      "\u001b[1m> Entering new RetrievalQA chain...\u001b[0m\n",
      "\n",
      "\u001b[1m> Finished chain.\u001b[0m\n"
     ]
    }
   ],
   "source": [
    "result = qa_chat.invoke(query)"
   ]
  },
  {
   "cell_type": "code",
   "execution_count": 57,
   "id": "dbb75a17-f910-4f61-b591-b14151ca924a",
   "metadata": {},
   "outputs": [
    {
     "name": "stdout",
     "output_type": "stream",
     "text": [
      "\n",
      "Answer:\n",
      " The text on the One Ring is a verse from Elven-lore, specifically from J.R.R. Tolkien's 'The Lord of the Rings'. It reads: \"One Ring to rule them all, One Ring to find them, One Ring to bring them all and in the Darkness bind them.\"\n",
      "\n",
      "This verse is actually part of a longer poem that describes the history and power of the Rings of Power. The One Ring was said to be the first of the Seven Rings forged by Sauron, and it was given to Durin III, King of Khazad-dûm (Khazadum is Dwarvish for 'Durin's Hall'), by Elven-smiths. However, it is unclear whether Sauron had a direct hand in its creation or not.\n",
      "\n",
      "The text on the ring is written in a flowing script of fine lines that shone piercingly bright, as if from a great depth. The letters are #n_88, but their meaning or significance within the verse is not explicitly stated in the provided context. It's also important to note that the full poem describes three other rings: Three for the Elven-kings, Seven for the Dwarf-lords, and Nine for Mortal Men.\n",
      "\n",
      "The One Ring holds immense power, as it can rule, find, bring together, and bind all the Rings of Power in the Land of Mordor where the Shadows lie. This makes it a dangerous artifact that must be destroyed to prevent Sauron from regaining his power.\n",
      "\n",
      "Sources:\n",
      "\n",
      " Source 1:\n",
      "‘It is quite cool,’ said Gandalf. ‘Take it!’ Frodo received it on his shrinking palm: it seemed to have become thicker and heavier than ever.\n",
      "\n",
      "‘Hold it up!’ said Gandalf. ‘And look closely!’\n",
      "\n",
      "As Frodo did so, he now saw fine lines, finer than the finest pen-strokes, running along the ring, outside and inside: lines of fire that seemed to form the letters of a flowing script: #n_88. They shone piercingly bright, and yet remote, as if out of a great depth.\n",
      "Source: data\\txt_data\\lotr\\Tolkien J.. The Lord of the Rings.txt\n",
      "\n",
      " Source 2:\n",
      "One Ring: #n_88 to rule them all, One Ring to find them, One Ring to bring them all and in the Darkness bind them.\n",
      "Source: data\\txt_data\\lotr\\Tolkien J.. The Lord of the Rings.txt\n",
      "\n",
      " Source 3:\n",
      "It is only two lines of a verse long known in Elven-lore:\n",
      "\n",
      "\t\tThree Rings for the Elven-kings under the sky,\n",
      "\t\t   Seven for the Dwarf-lords in their halls of stone,\n",
      "\t\tNine for Mortal Men doomed to die,\n",
      "\t\t   One for the Dark Lord on his dark throne\n",
      "\t\tIn the Land of Mordor where the Shadows lie.\n",
      "\t\t   One Ring to rule them all, One Ring to find them,\n",
      "\t\tOne Ring to bring them all and in the darkness bind them\n",
      "\t\t   In the Land of Mordor where the Shadows lie.’\n",
      "Source: data\\txt_data\\lotr\\Tolkien J.. The Lord of the Rings.txt\n",
      "\n",
      " Source 4:\n",
      "Of this Ring something may be said here. It was believed by the Dwarves of Durin’s Folk to be the first of the Seven that was forged; and they say that it was given to the King of Khazad-d&#251;m, Durin III, by the Elven-smiths themselves and not by Sauron, though doubtless his evil power was on it, since he had aided in the forging of all the Seven. But the possessors of the Ring did not display it or speak of it, and they seldom surrendered it until near death, so that others did not know for\n",
      "Source: data\\txt_data\\lotr\\Tolkien J.. The Lord of the Rings.txt\n",
      "\n",
      " Source 5:\n",
      "The Hobbit\n",
      "\n",
      "\n",
      "\n",
      "NOTE ON THE TEXT\n",
      "Source: data\\txt_data\\lotr\\Tolkien John. The Hobbit.txt\n"
     ]
    }
   ],
   "source": [
    "print(\"\\nAnswer:\")\n",
    "print(result[\"result\"])\n",
    "\n",
    "print(\"\\nSources:\")\n",
    "for i, doc in enumerate(result[\"source_documents\"]):\n",
    "    print(f\"\\n Source {i + 1}:\")\n",
    "    print(doc.page_content[:500])\n",
    "    print(\"Source:\", doc.metadata.get(\"source\", \"unknown\"))"
   ]
  },
  {
   "cell_type": "code",
   "execution_count": null,
   "id": "68e298dc-23b9-4060-9fb4-92135fc8d85f",
   "metadata": {},
   "outputs": [],
   "source": []
  },
  {
   "cell_type": "code",
   "execution_count": null,
   "id": "90754b81-e727-40fd-b4fb-e0f030fa25a3",
   "metadata": {},
   "outputs": [],
   "source": []
  },
  {
   "cell_type": "code",
   "execution_count": null,
   "id": "f1c0857a-4544-4547-940f-596f6cba0d74",
   "metadata": {},
   "outputs": [],
   "source": []
  },
  {
   "cell_type": "code",
   "execution_count": null,
   "id": "41772fdc-f218-4b64-b245-16d73f8d6c2a",
   "metadata": {},
   "outputs": [],
   "source": []
  },
  {
   "cell_type": "code",
   "execution_count": null,
   "id": "8df6ccfb-0974-453b-8136-ab20be18dc91",
   "metadata": {},
   "outputs": [],
   "source": []
  }
 ],
 "metadata": {
  "kernelspec": {
   "display_name": "Python (.venv langchain)",
   "language": "python",
   "name": "langchain-env"
  },
  "language_info": {
   "codemirror_mode": {
    "name": "ipython",
    "version": 3
   },
   "file_extension": ".py",
   "mimetype": "text/x-python",
   "name": "python",
   "nbconvert_exporter": "python",
   "pygments_lexer": "ipython3",
   "version": "3.12.4"
  }
 },
 "nbformat": 4,
 "nbformat_minor": 5
}
